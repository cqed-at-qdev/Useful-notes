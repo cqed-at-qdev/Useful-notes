{
 "cells": [
  {
   "cell_type": "code",
   "execution_count": 15,
   "metadata": {},
   "outputs": [],
   "source": [
    "import numpy as np\n",
    "from IPython.display import display, Image, Markdown"
   ]
  },
  {
   "cell_type": "code",
   "execution_count": 16,
   "metadata": {},
   "outputs": [],
   "source": [
    "C   = 44.8 # fF PAD0 - PAD1\n",
    "C00 = 81.5 # fF PAD0 - GND\n",
    "C01 = 20.0 # fF PAD0 - CPIN\n",
    "C10 = 97.5 # fF PAD1 - GND\n",
    "C11 = 1.15 # fF PAD1 - CPIN\n",
    "\n",
    "E_J = 20  # GHz Josephson energy\n",
    "f_R = 7.2 # GHz resonator frequency"
   ]
  },
  {
   "cell_type": "code",
   "execution_count": 25,
   "metadata": {},
   "outputs": [
    {
     "data": {
      "text/markdown": [
       "$E_C/h = $ 204.3 MHz"
      ],
      "text/plain": [
       "<IPython.core.display.Markdown object>"
      ]
     },
     "metadata": {},
     "output_type": "display_data"
    },
    {
     "data": {
      "text/markdown": [
       "$\\beta = $ 0.098"
      ],
      "text/plain": [
       "<IPython.core.display.Markdown object>"
      ]
     },
     "metadata": {},
     "output_type": "display_data"
    },
    {
     "data": {
      "text/markdown": [
       "$\\omega_{01}/2\\pi = $ 5.5 GHz"
      ],
      "text/plain": [
       "<IPython.core.display.Markdown object>"
      ]
     },
     "metadata": {},
     "output_type": "display_data"
    },
    {
     "data": {
      "text/markdown": [
       "$g/2\\pi = $ 116.4 MHz"
      ],
      "text/plain": [
       "<IPython.core.display.Markdown object>"
      ]
     },
     "metadata": {},
     "output_type": "display_data"
    }
   ],
   "source": [
    "C_phi      = C + ((C00 + C01)*(C10 + C11))/(C00 + C01 + C10 + C11)\n",
    "C_coupling = (C00*C11 - C01*C10)/(C00 + C01 + C10 + C11)\n",
    "\n",
    "E_C  = 19.37 / C_phi # GHz\n",
    "beta = np.abs(C_coupling / C_phi)\n",
    "g    = 125 * beta * f_R * (E_J / E_C / 32) ** (1/4) # MHz\n",
    "freq = np.sqrt(8 * E_C * E_J) - E_C\n",
    "\n",
    "display(Markdown('$E_C/h = $ %.1f MHz' % (E_C * 1e3)))\n",
    "display(Markdown('$\\\\beta = $ %.3f' % beta))\n",
    "display(Markdown('$\\omega_{01}/2\\pi = $ %.1f GHz' % freq))\n",
    "display(Markdown('$g/2\\pi = $ %.1f MHz' % g))\n"
   ]
  },
  {
   "cell_type": "code",
   "execution_count": null,
   "metadata": {},
   "outputs": [],
   "source": []
  }
 ],
 "metadata": {
  "kernelspec": {
   "display_name": "Python 3",
   "language": "python",
   "name": "python3"
  },
  "language_info": {
   "codemirror_mode": {
    "name": "ipython",
    "version": 3
   },
   "file_extension": ".py",
   "mimetype": "text/x-python",
   "name": "python",
   "nbconvert_exporter": "python",
   "pygments_lexer": "ipython3",
   "version": "3.7.6"
  }
 },
 "nbformat": 4,
 "nbformat_minor": 4
}
